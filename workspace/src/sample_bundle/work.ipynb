{
 "cells": [
  {
   "cell_type": "markdown",
   "id": "61fe3256",
   "metadata": {},
   "source": [
    "# Databricks Asset Bundle\n",
    "参考: https://docs.databricks.com/aws/ja/dev-tools/bundles/"
   ]
  },
  {
   "cell_type": "markdown",
   "id": "a88fd7a0",
   "metadata": {},
   "source": [
    "# コマンド操作\n",
    "```bash\n",
    "# バンドル作成\n",
    "databricks bundle init\n",
    "\n",
    "# 既存のアセットからテンプレートを作成\n",
    "# ワークスペースに資材がある類に向く\n",
    "# (Git フォルダには向かない。使いたければブラウザからジョブの YAML 記述を直接取ってくる)\n",
    "databricks bundle generate job --existing-job-id 316513921258419\n",
    "\n",
    "# 既存のアセットとテンプレートを紐付け\n",
    "databricks bundle deployment bind hoge_jobnet 316513921258419\n",
    "\n",
    "# ワークスペースへバンドルをデプロイ\n",
    "databricks bundle deploy\n",
    "\n",
    "# ワークスペースのファイルを更新\n",
    "databricks bundle sync\n",
    "\n",
    "# ワークスペースへバンドルを消去\n",
    "databricks bundle destroy\n",
    "```\n"
   ]
  }
 ],
 "metadata": {
  "language_info": {
   "name": "python"
  }
 },
 "nbformat": 4,
 "nbformat_minor": 5
}
