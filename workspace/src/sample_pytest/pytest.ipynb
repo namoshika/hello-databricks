{
 "cells": [
  {
   "cell_type": "markdown",
   "id": "0f93e558",
   "metadata": {},
   "source": [
    "# PyTest\n",
    "\n",
    "\n",
    "注意点\n",
    "\n",
    "* **pytest を使用する場合、 Git フォルダ上で使う事**  \n",
    "  ワークスペース上ではテストコードから試験対象モジュールのインポートに失敗したりと、パスの挙動に怪しい処が有る  \n",
    "  (sys.path でパスが通っていてもインポートエラーがでる等、不可解な挙動をする)\n",
    "* **同一セッション内でのテストの再実行は不可**  \n",
    "  再実行する場合はクラスターのデタッチと再アタッチをする事  \n",
    "  (公式で [非推奨](https://docs.pytest.org/en/stable/how-to/usage.html#calling-pytest-from-python-code) とされている。行わない場合、正しいカバレッジ率で出ない)"
   ]
  },
  {
   "cell_type": "code",
   "execution_count": null,
   "id": "cb889016",
   "metadata": {},
   "outputs": [],
   "source": [
    "%pip install pytest pytest-cov"
   ]
  },
  {
   "cell_type": "code",
   "execution_count": null,
   "id": "01e45b58",
   "metadata": {},
   "outputs": [],
   "source": [
    "import pytest\n",
    "import sys\n",
    "\n",
    "# Skip writing pyc files on a readonly filesystem.\n",
    "sys.dont_write_bytecode = True"
   ]
  },
  {
   "cell_type": "markdown",
   "id": "a396923a",
   "metadata": {},
   "source": [
    "# List test case"
   ]
  },
  {
   "cell_type": "code",
   "execution_count": null,
   "id": "414a704f",
   "metadata": {},
   "outputs": [],
   "source": [
    "# bash: python -m pytest -v --collect-only tests/\n",
    "pytest.main([\"-v\", \"--collect-only\", \"-p\", \"no:cacheprovider\", \"tests/\"])"
   ]
  },
  {
   "cell_type": "markdown",
   "id": "606e1417",
   "metadata": {},
   "source": [
    "# Exec test case"
   ]
  },
  {
   "cell_type": "code",
   "execution_count": null,
   "id": "0e186d34",
   "metadata": {},
   "outputs": [],
   "source": [
    "# bash: python -m pytest -v tests/\n",
    "pytest.main([\"-v\", \"-p\", \"no:cacheprovider\", \"tests/\"])"
   ]
  },
  {
   "cell_type": "markdown",
   "id": "8a8fb323",
   "metadata": {},
   "source": [
    "# Get test coverage\n",
    "`pytest-cov` パッケージを追加するとカバレッジを計測し出力できるようになる。  \n",
    "C0, C1 のカバレッジ率を求める事が可能 (C2 は非対応)。"
   ]
  },
  {
   "cell_type": "code",
   "execution_count": null,
   "id": "9c16b771",
   "metadata": {},
   "outputs": [],
   "source": [
    "# bash: python -m pytest --cov=src/ tests/\n",
    "# 引数: --cov={DIRECTORY}: カバレッジを計測したいスクリプトの有るディレクトリを指定。\n",
    "# 複数個有る場合は複数回指定。既定では C0 カバレッジ率を計算する\n",
    "pytest.main([\"--cov=src/\", \"-p\", \"no:cacheprovider\", \"tests/\"])"
   ]
  },
  {
   "cell_type": "code",
   "execution_count": null,
   "id": "e1d1d651",
   "metadata": {},
   "outputs": [],
   "source": [
    "# bash: python -m pytest --cov=src/ --cov-branch tests/\n",
    "# 引数 --cov-branch: C0 ではなく C1 カバレッジ率を計算する\n",
    "pytest.main([\"--cov=src/\", \"--cov-branch\", \"-p\", \"no:cacheprovider\", \"tests/\"])"
   ]
  },
  {
   "cell_type": "markdown",
   "id": "5dee3ef5",
   "metadata": {},
   "source": [
    "# Get Report"
   ]
  },
  {
   "cell_type": "code",
   "execution_count": null,
   "id": "cca50e4b",
   "metadata": {},
   "outputs": [],
   "source": [
    "# bash: python -m pytest --cov=src/ --cov-branch --cov-report=html tests/\n",
    "# 引数 --cov-report: カバレッジレポートを出力 (対応タイプ: term, html, xml, json, lcov, annotate)\n",
    "pytest.main([\"--cov=src/\", \"-v\", \"--cov-branch\", \"--cov-report=term\", \"--cov-report=html\", \"--cov-branch\", \"-p\", \"no:cacheprovider\", \"tests/\"])"
   ]
  },
  {
   "cell_type": "markdown",
   "id": "7f7489f2",
   "metadata": {},
   "source": [
    "# 参考\n",
    "* https://docs.databricks.com/gcp/ja/notebooks/testing\n",
    "* https://pytest-cov.readthedocs.io/en/latest/"
   ]
  }
 ],
 "metadata": {
  "kernelspec": {
   "display_name": ".venv",
   "language": "python",
   "name": "python3"
  },
  "language_info": {
   "codemirror_mode": {
    "name": "ipython",
    "version": 3
   },
   "file_extension": ".py",
   "mimetype": "text/x-python",
   "name": "python",
   "nbconvert_exporter": "python",
   "pygments_lexer": "ipython3",
   "version": "3.11.12"
  }
 },
 "nbformat": 4,
 "nbformat_minor": 5
}
